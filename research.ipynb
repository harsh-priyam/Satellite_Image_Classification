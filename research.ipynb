{
 "cells": [
  {
   "cell_type": "code",
   "execution_count": 100,
   "metadata": {},
   "outputs": [
    {
     "name": "stdout",
     "output_type": "stream",
     "text": [
      "SATELITE IMAGE CLASSIFICATION\n"
     ]
    }
   ],
   "source": [
    "print(\"SATELITE IMAGE CLASSIFICATION\")"
   ]
  },
  {
   "cell_type": "code",
   "execution_count": 106,
   "metadata": {},
   "outputs": [],
   "source": [
    "import torch \n",
    "import torchvision\n",
    "from torchvision import models\n",
    "import numpy as np\n",
    "from PIL import Image\n",
    "import torch.nn as nn\n",
    "import os \n",
    "from torch.utils.data import DataLoader,Dataset\n",
    "from torchvision import transforms\n",
    "from torch.utils.data import random_split"
   ]
  },
  {
   "cell_type": "code",
   "execution_count": 102,
   "metadata": {},
   "outputs": [],
   "source": [
    "path_lib = r\"data\"\n",
    "classes = {}\n",
    "sub_folder_name = [folder for folder in os.listdir(path_lib) if os.path.isdir(os.path.join(path_lib,folder))]\n",
    "\n",
    "for i in range(len(sub_folder_name)):\n",
    "    classes[sub_folder_name[i]] = i "
   ]
  },
  {
   "cell_type": "code",
   "execution_count": 123,
   "metadata": {},
   "outputs": [
    {
     "data": {
      "text/plain": [
       "{'cloudy': 0, 'desert': 1, 'green_area': 2, 'water': 3}"
      ]
     },
     "execution_count": 123,
     "metadata": {},
     "output_type": "execute_result"
    }
   ],
   "source": [
    "classes"
   ]
  },
  {
   "cell_type": "code",
   "execution_count": 103,
   "metadata": {},
   "outputs": [],
   "source": [
    "class SatelliteImageDataset(Dataset):\n",
    "    def __init__(self,root_dir,transform=None,target_transform = None):\n",
    "        self.root_dir = root_dir\n",
    "        self.transform = transform\n",
    "        self.target_transform = target_transform\n",
    "        self.classes = classes\n",
    "        self.image_path = []\n",
    "        self.labels = []\n",
    "    \n",
    "        for label_name, label_value in self.classes.items():\n",
    "            label_dir = os.path.join(self.root_dir,label_name)\n",
    "            for file_name in os.listdir(label_dir):\n",
    "                if file_name.endswith(('png','jpeg','jpg')):\n",
    "                    self.image_path.append(os.path.join(label_dir,file_name))\n",
    "                    self.labels.append(label_value)\n",
    "        \n",
    "    def __len__(self):\n",
    "        return len(self.image_path)\n",
    "    \n",
    "    def __getitem__(self, index):\n",
    "\n",
    "        if torch.is_tensor(index):\n",
    "            index = index.tolist()\n",
    "        \n",
    "        img_path = self.image_path[index]\n",
    "        label = self.labels[index]\n",
    "\n",
    "        image = Image.open(img_path).convert(\"RGB\")\n",
    "\n",
    "        if self.transform:\n",
    "            image = self.transform(image)\n",
    "        if self.target_transform:\n",
    "            label = self.target_transform(label)\n",
    "\n",
    "        return image, label "
   ]
  },
  {
   "cell_type": "code",
   "execution_count": 104,
   "metadata": {},
   "outputs": [],
   "source": [
    "transform = transforms.Compose([\n",
    "transforms.Grayscale(num_output_channels=3),\n",
    "transforms.Resize((224,224)),\n",
    "transforms.RandomHorizontalFlip(),\n",
    "transforms.RandomRotation(degrees=10),\n",
    "transforms.RandomResizedCrop(224),\n",
    "transforms.ColorJitter(brightness=0.2,contrast=0.2,saturation=0.2,hue=0.2),\n",
    "transforms.ToTensor(),\n",
    "transforms.Normalize(mean=[0.485, 0.456, 0.406], std=[0.229, 0.224, 0.225])\n",
    "])"
   ]
  },
  {
   "cell_type": "code",
   "execution_count": 105,
   "metadata": {},
   "outputs": [],
   "source": [
    "dataset = SatelliteImageDataset(root_dir=r\"data\",transform=transform)"
   ]
  },
  {
   "cell_type": "code",
   "execution_count": 107,
   "metadata": {},
   "outputs": [],
   "source": [
    "dataset_size = dataset.__len__()\n",
    "train_data_size = int(0.8 * dataset_size)\n",
    "val_data_size = dataset_size - train_data_size\n",
    "\n",
    "train_dataset, test_dataset = random_split(dataset,[train_data_size,val_data_size])"
   ]
  },
  {
   "cell_type": "code",
   "execution_count": 108,
   "metadata": {},
   "outputs": [],
   "source": [
    "image_train,label_train = train_dataset[110]\n",
    "image_test, label_test = test_dataset[2]"
   ]
  },
  {
   "cell_type": "code",
   "execution_count": 109,
   "metadata": {},
   "outputs": [
    {
     "name": "stdout",
     "output_type": "stream",
     "text": [
      "torch.Size([3, 224, 224]) 1\n"
     ]
    }
   ],
   "source": [
    "print(image_test.shape,label_test)"
   ]
  },
  {
   "cell_type": "code",
   "execution_count": 110,
   "metadata": {},
   "outputs": [],
   "source": [
    "device = torch.device('cuda' if torch.cuda.is_available() else 'cpu')"
   ]
  },
  {
   "cell_type": "code",
   "execution_count": 111,
   "metadata": {},
   "outputs": [],
   "source": [
    "train_loader = DataLoader(train_dataset,batch_size=32,shuffle=True)\n",
    "test_loader = DataLoader(test_dataset,batch_size=32,shuffle=True)"
   ]
  },
  {
   "cell_type": "code",
   "execution_count": 112,
   "metadata": {},
   "outputs": [
    {
     "name": "stderr",
     "output_type": "stream",
     "text": [
      "c:\\Users\\aarav\\anaconda3\\envs\\pytorch\\Lib\\site-packages\\torchvision\\models\\_utils.py:208: UserWarning: The parameter 'pretrained' is deprecated since 0.13 and may be removed in the future, please use 'weights' instead.\n",
      "  warnings.warn(\n",
      "c:\\Users\\aarav\\anaconda3\\envs\\pytorch\\Lib\\site-packages\\torchvision\\models\\_utils.py:223: UserWarning: Arguments other than a weight enum or `None` for 'weights' are deprecated since 0.13 and may be removed in the future. The current behavior is equivalent to passing `weights=ResNet18_Weights.IMAGENET1K_V1`. You can also use `weights=ResNet18_Weights.DEFAULT` to get the most up-to-date weights.\n",
      "  warnings.warn(msg)\n"
     ]
    }
   ],
   "source": [
    "model = torchvision.models.resnet18(pretrained=True)\n",
    "\n",
    "for param in model.parameters():\n",
    "    param.requires_grad = True\n",
    "\n",
    "num_features = model.fc.in_features\n",
    "model.fc = nn.Linear(num_features,4)\n"
   ]
  },
  {
   "cell_type": "code",
   "execution_count": 113,
   "metadata": {},
   "outputs": [],
   "source": [
    "criterion = nn.CrossEntropyLoss()\n",
    "optimizer = torch.optim.Adam(model.parameters(),lr=0.001)\n",
    "scheduler = torch.optim.lr_scheduler.StepLR(optimizer,step_size=7,gamma=0.1) "
   ]
  },
  {
   "cell_type": "code",
   "execution_count": 114,
   "metadata": {},
   "outputs": [
    {
     "name": "stdout",
     "output_type": "stream",
     "text": [
      "::: Number of Epochs :::: 0 :::::::: Loss ::::: 0.5400\n",
      "::: Number of Epochs :::: 1 :::::::: Loss ::::: 0.4126\n",
      "::: Number of Epochs :::: 2 :::::::: Loss ::::: 0.3931\n",
      "::: Number of Epochs :::: 3 :::::::: Loss ::::: 0.3523\n",
      "::: Number of Epochs :::: 4 :::::::: Loss ::::: 0.2995\n",
      "::: Number of Epochs :::: 5 :::::::: Loss ::::: 0.3077\n",
      "::: Number of Epochs :::: 6 :::::::: Loss ::::: 0.3116\n",
      "::: Number of Epochs :::: 7 :::::::: Loss ::::: 0.2383\n",
      "::: Number of Epochs :::: 8 :::::::: Loss ::::: 0.1941\n",
      "::: Number of Epochs :::: 9 :::::::: Loss ::::: 0.2078\n",
      "::: Number of Epochs :::: 10 :::::::: Loss ::::: 0.1807\n",
      "::: Number of Epochs :::: 11 :::::::: Loss ::::: 0.1746\n",
      "::: Number of Epochs :::: 12 :::::::: Loss ::::: 0.1694\n",
      "::: Number of Epochs :::: 13 :::::::: Loss ::::: 0.1587\n",
      "::: Number of Epochs :::: 14 :::::::: Loss ::::: 0.1431\n",
      "::: Number of Epochs :::: 15 :::::::: Loss ::::: 0.1311\n",
      "::: Number of Epochs :::: 16 :::::::: Loss ::::: 0.1203\n",
      "::: Number of Epochs :::: 17 :::::::: Loss ::::: 0.1200\n",
      "::: Number of Epochs :::: 18 :::::::: Loss ::::: 0.1090\n",
      "::: Number of Epochs :::: 19 :::::::: Loss ::::: 0.1235\n",
      "::: Number of Epochs :::: 20 :::::::: Loss ::::: 0.1165\n",
      "::: Number of Epochs :::: 21 :::::::: Loss ::::: 0.1385\n",
      "::: Number of Epochs :::: 22 :::::::: Loss ::::: 0.1147\n",
      "::: Number of Epochs :::: 23 :::::::: Loss ::::: 0.1137\n",
      "::: Number of Epochs :::: 24 :::::::: Loss ::::: 0.1115\n",
      "::: Number of Epochs :::: 25 :::::::: Loss ::::: 0.1146\n",
      "::: Number of Epochs :::: 26 :::::::: Loss ::::: 0.1148\n",
      "::: Number of Epochs :::: 27 :::::::: Loss ::::: 0.1225\n",
      "::: Number of Epochs :::: 28 :::::::: Loss ::::: 0.1055\n",
      "::: Number of Epochs :::: 29 :::::::: Loss ::::: 0.1120\n",
      "::: Number of Epochs :::: 30 :::::::: Loss ::::: 0.1117\n",
      "::: Number of Epochs :::: 31 :::::::: Loss ::::: 0.1076\n",
      "::: Number of Epochs :::: 32 :::::::: Loss ::::: 0.1139\n",
      "::: Number of Epochs :::: 33 :::::::: Loss ::::: 0.1150\n",
      "::: Number of Epochs :::: 34 :::::::: Loss ::::: 0.1223\n",
      "::: Number of Epochs :::: 35 :::::::: Loss ::::: 0.1093\n",
      "::: Number of Epochs :::: 36 :::::::: Loss ::::: 0.1140\n",
      "::: Number of Epochs :::: 37 :::::::: Loss ::::: 0.1141\n",
      "::: Number of Epochs :::: 38 :::::::: Loss ::::: 0.1127\n",
      "::: Number of Epochs :::: 39 :::::::: Loss ::::: 0.1083\n",
      "::: Number of Epochs :::: 40 :::::::: Loss ::::: 0.1158\n",
      "::: Number of Epochs :::: 41 :::::::: Loss ::::: 0.1151\n",
      "::: Number of Epochs :::: 42 :::::::: Loss ::::: 0.1126\n",
      "::: Number of Epochs :::: 43 :::::::: Loss ::::: 0.1156\n",
      "::: Number of Epochs :::: 44 :::::::: Loss ::::: 0.1159\n",
      "::: Number of Epochs :::: 45 :::::::: Loss ::::: 0.1158\n",
      "::: Number of Epochs :::: 46 :::::::: Loss ::::: 0.1058\n",
      "::: Number of Epochs :::: 47 :::::::: Loss ::::: 0.1205\n",
      "::: Number of Epochs :::: 48 :::::::: Loss ::::: 0.1092\n",
      "::: Number of Epochs :::: 49 :::::::: Loss ::::: 0.1172\n"
     ]
    }
   ],
   "source": [
    "num_epochs = 50\n",
    "model = model.to(device)\n",
    "for epoch in range(num_epochs):\n",
    "    model.train()\n",
    "    running_loss = 0.0\n",
    "\n",
    "    for images, labels in train_loader:\n",
    "        images, labels = images.to(device), labels.to(device)\n",
    "\n",
    "        y_pred = model(images)\n",
    "        loss = criterion(y_pred,labels)\n",
    "\n",
    "        optimizer.zero_grad()\n",
    "\n",
    "        loss.backward()\n",
    "        optimizer.step()\n",
    "\n",
    "        running_loss += loss.item()\n",
    "    \n",
    "    scheduler.step()\n",
    "\n",
    "    print(f\"::: Number of Epochs :::: {epoch} :::::::: Loss ::::: {running_loss/len(train_loader):.4f}\")"
   ]
  },
  {
   "cell_type": "code",
   "execution_count": 135,
   "metadata": {},
   "outputs": [],
   "source": [
    "import copy\n",
    "def validate(model, val_loader):\n",
    "    model.eval()\n",
    "    val_loss = 0.0\n",
    "    correct = 0\n",
    "    total = 0\n",
    "\n",
    "    with torch.no_grad():\n",
    "        for images, labels in val_loader:\n",
    "            images, labels = images.to(device), labels.to(device)\n",
    "            y_pred = model(images)\n",
    "            loss = criterion(y_pred, labels)\n",
    "            val_loss += loss.item()\n",
    "\n",
    "            _, predicted = torch.max(y_pred, 1)\n",
    "            total += labels.size(0)\n",
    "            correct += (predicted == labels).sum().item()\n",
    "\n",
    "    accuracy = 100 * correct / total\n",
    "    avg_val_loss = val_loss / len(val_loader)\n",
    "    print(f\"Validation Loss: {avg_val_loss:.4f}, Accuracy: {accuracy:.2f}%\")\n",
    "    return avg_val_loss, accuracy\n"
   ]
  },
  {
   "cell_type": "code",
   "execution_count": 136,
   "metadata": {},
   "outputs": [
    {
     "name": "stdout",
     "output_type": "stream",
     "text": [
      "Epoch [1/50], Training Loss: 0.1134\n",
      "Validation Loss: 0.0797, Accuracy: 97.25%\n",
      "Validation accuracy improved, saving best model...\n",
      "Epoch [2/50], Training Loss: 0.1122\n",
      "Validation Loss: 0.0877, Accuracy: 96.98%\n",
      "No improvement in validation accuracy for 1 epochs.\n",
      "Epoch [3/50], Training Loss: 0.1127\n",
      "Validation Loss: 0.0727, Accuracy: 98.14%\n",
      "Validation accuracy improved, saving best model...\n",
      "Epoch [4/50], Training Loss: 0.1022\n",
      "Validation Loss: 0.0830, Accuracy: 96.98%\n",
      "No improvement in validation accuracy for 1 epochs.\n",
      "Epoch [5/50], Training Loss: 0.1226\n",
      "Validation Loss: 0.0922, Accuracy: 96.63%\n",
      "No improvement in validation accuracy for 2 epochs.\n",
      "Epoch [6/50], Training Loss: 0.1121\n",
      "Validation Loss: 0.0888, Accuracy: 96.89%\n",
      "No improvement in validation accuracy for 3 epochs.\n",
      "Epoch [7/50], Training Loss: 0.1162\n",
      "Validation Loss: 0.0771, Accuracy: 97.52%\n",
      "No improvement in validation accuracy for 4 epochs.\n",
      "Epoch [8/50], Training Loss: 0.1261\n",
      "Validation Loss: 0.0927, Accuracy: 96.72%\n",
      "No improvement in validation accuracy for 5 epochs.\n",
      "Early stopping triggered.\n",
      "Best model with accuracy 98.14% loaded.\n"
     ]
    }
   ],
   "source": [
    "patience = 5\n",
    "best_val_accuracy = 0.0\n",
    "no_improvement_epochs = 0\n",
    "best_model_weights = None\n",
    "\n",
    "for epoch in range(num_epochs):\n",
    "    model.train()\n",
    "    running_loss = 0.0  # To track total loss for the epoch\n",
    "\n",
    "    for images, labels in train_loader:  # Iterate through training batches\n",
    "        # Move data to the appropriate device (CPU or GPU)\n",
    "        images, labels = images.to(device), labels.to(device)\n",
    "\n",
    "        # Forward pass\n",
    "        outputs = model(images)  # Predictions\n",
    "        loss = criterion(outputs, labels)  # Compute the loss\n",
    "\n",
    "        # Backward pass\n",
    "        optimizer.zero_grad()  # Clear gradients from the previous step\n",
    "        loss.backward()  # Compute gradients\n",
    "        optimizer.step()  # Update model weights\n",
    "\n",
    "        # Accumulate the running loss\n",
    "        running_loss += loss.item()\n",
    "\n",
    "    # Calculate and print average training loss for this epoch\n",
    "    avg_train_loss = running_loss / len(train_loader)\n",
    "    print(f\"Epoch [{epoch + 1}/{num_epochs}], Training Loss: {avg_train_loss:.4f}\")\n",
    "\n",
    "    # Validate after each epoch\n",
    "    avg_val_loss, val_accuracy = validate(model, test_loader)\n",
    "\n",
    "    # Early stopping logic\n",
    "    if val_accuracy > best_val_accuracy:\n",
    "        best_val_accuracy = val_accuracy\n",
    "        no_improvement_epochs = 0\n",
    "        best_model_weights = copy.deepcopy(model.state_dict())\n",
    "        print(\"Validation accuracy improved, saving best model...\")\n",
    "    else:\n",
    "        no_improvement_epochs += 1\n",
    "        print(f\"No improvement in validation accuracy for {no_improvement_epochs} epochs.\")\n",
    "\n",
    "    if no_improvement_epochs >= patience:\n",
    "        print(\"Early stopping triggered.\")\n",
    "        break\n",
    "\n",
    "# Load the best model weights\n",
    "if best_model_weights is not None:\n",
    "    model.load_state_dict(best_model_weights)\n",
    "    print(f\"Best model with accuracy {best_val_accuracy:.2f}% loaded.\")"
   ]
  },
  {
   "cell_type": "code",
   "execution_count": 137,
   "metadata": {},
   "outputs": [],
   "source": [
    "torch.save(model.state_dict(), \"satellite_data.pth\")"
   ]
  },
  {
   "cell_type": "code",
   "execution_count": 145,
   "metadata": {},
   "outputs": [
    {
     "name": "stderr",
     "output_type": "stream",
     "text": [
      "C:\\Users\\aarav\\AppData\\Local\\Temp\\ipykernel_23260\\60183586.py:1: FutureWarning: You are using `torch.load` with `weights_only=False` (the current default value), which uses the default pickle module implicitly. It is possible to construct malicious pickle data which will execute arbitrary code during unpickling (See https://github.com/pytorch/pytorch/blob/main/SECURITY.md#untrusted-models for more details). In a future release, the default value for `weights_only` will be flipped to `True`. This limits the functions that could be executed during unpickling. Arbitrary objects will no longer be allowed to be loaded via this mode unless they are explicitly allowlisted by the user via `torch.serialization.add_safe_globals`. We recommend you start setting `weights_only=True` for any use case where you don't have full control of the loaded file. Please open an issue on GitHub for any issues related to this experimental feature.\n",
      "  model.load_state_dict(torch.load(\"satellite_data.pth\"))\n"
     ]
    },
    {
     "data": {
      "text/plain": [
       "ResNet(\n",
       "  (conv1): Conv2d(3, 64, kernel_size=(7, 7), stride=(2, 2), padding=(3, 3), bias=False)\n",
       "  (bn1): BatchNorm2d(64, eps=1e-05, momentum=0.1, affine=True, track_running_stats=True)\n",
       "  (relu): ReLU(inplace=True)\n",
       "  (maxpool): MaxPool2d(kernel_size=3, stride=2, padding=1, dilation=1, ceil_mode=False)\n",
       "  (layer1): Sequential(\n",
       "    (0): BasicBlock(\n",
       "      (conv1): Conv2d(64, 64, kernel_size=(3, 3), stride=(1, 1), padding=(1, 1), bias=False)\n",
       "      (bn1): BatchNorm2d(64, eps=1e-05, momentum=0.1, affine=True, track_running_stats=True)\n",
       "      (relu): ReLU(inplace=True)\n",
       "      (conv2): Conv2d(64, 64, kernel_size=(3, 3), stride=(1, 1), padding=(1, 1), bias=False)\n",
       "      (bn2): BatchNorm2d(64, eps=1e-05, momentum=0.1, affine=True, track_running_stats=True)\n",
       "    )\n",
       "    (1): BasicBlock(\n",
       "      (conv1): Conv2d(64, 64, kernel_size=(3, 3), stride=(1, 1), padding=(1, 1), bias=False)\n",
       "      (bn1): BatchNorm2d(64, eps=1e-05, momentum=0.1, affine=True, track_running_stats=True)\n",
       "      (relu): ReLU(inplace=True)\n",
       "      (conv2): Conv2d(64, 64, kernel_size=(3, 3), stride=(1, 1), padding=(1, 1), bias=False)\n",
       "      (bn2): BatchNorm2d(64, eps=1e-05, momentum=0.1, affine=True, track_running_stats=True)\n",
       "    )\n",
       "  )\n",
       "  (layer2): Sequential(\n",
       "    (0): BasicBlock(\n",
       "      (conv1): Conv2d(64, 128, kernel_size=(3, 3), stride=(2, 2), padding=(1, 1), bias=False)\n",
       "      (bn1): BatchNorm2d(128, eps=1e-05, momentum=0.1, affine=True, track_running_stats=True)\n",
       "      (relu): ReLU(inplace=True)\n",
       "      (conv2): Conv2d(128, 128, kernel_size=(3, 3), stride=(1, 1), padding=(1, 1), bias=False)\n",
       "      (bn2): BatchNorm2d(128, eps=1e-05, momentum=0.1, affine=True, track_running_stats=True)\n",
       "      (downsample): Sequential(\n",
       "        (0): Conv2d(64, 128, kernel_size=(1, 1), stride=(2, 2), bias=False)\n",
       "        (1): BatchNorm2d(128, eps=1e-05, momentum=0.1, affine=True, track_running_stats=True)\n",
       "      )\n",
       "    )\n",
       "    (1): BasicBlock(\n",
       "      (conv1): Conv2d(128, 128, kernel_size=(3, 3), stride=(1, 1), padding=(1, 1), bias=False)\n",
       "      (bn1): BatchNorm2d(128, eps=1e-05, momentum=0.1, affine=True, track_running_stats=True)\n",
       "      (relu): ReLU(inplace=True)\n",
       "      (conv2): Conv2d(128, 128, kernel_size=(3, 3), stride=(1, 1), padding=(1, 1), bias=False)\n",
       "      (bn2): BatchNorm2d(128, eps=1e-05, momentum=0.1, affine=True, track_running_stats=True)\n",
       "    )\n",
       "  )\n",
       "  (layer3): Sequential(\n",
       "    (0): BasicBlock(\n",
       "      (conv1): Conv2d(128, 256, kernel_size=(3, 3), stride=(2, 2), padding=(1, 1), bias=False)\n",
       "      (bn1): BatchNorm2d(256, eps=1e-05, momentum=0.1, affine=True, track_running_stats=True)\n",
       "      (relu): ReLU(inplace=True)\n",
       "      (conv2): Conv2d(256, 256, kernel_size=(3, 3), stride=(1, 1), padding=(1, 1), bias=False)\n",
       "      (bn2): BatchNorm2d(256, eps=1e-05, momentum=0.1, affine=True, track_running_stats=True)\n",
       "      (downsample): Sequential(\n",
       "        (0): Conv2d(128, 256, kernel_size=(1, 1), stride=(2, 2), bias=False)\n",
       "        (1): BatchNorm2d(256, eps=1e-05, momentum=0.1, affine=True, track_running_stats=True)\n",
       "      )\n",
       "    )\n",
       "    (1): BasicBlock(\n",
       "      (conv1): Conv2d(256, 256, kernel_size=(3, 3), stride=(1, 1), padding=(1, 1), bias=False)\n",
       "      (bn1): BatchNorm2d(256, eps=1e-05, momentum=0.1, affine=True, track_running_stats=True)\n",
       "      (relu): ReLU(inplace=True)\n",
       "      (conv2): Conv2d(256, 256, kernel_size=(3, 3), stride=(1, 1), padding=(1, 1), bias=False)\n",
       "      (bn2): BatchNorm2d(256, eps=1e-05, momentum=0.1, affine=True, track_running_stats=True)\n",
       "    )\n",
       "  )\n",
       "  (layer4): Sequential(\n",
       "    (0): BasicBlock(\n",
       "      (conv1): Conv2d(256, 512, kernel_size=(3, 3), stride=(2, 2), padding=(1, 1), bias=False)\n",
       "      (bn1): BatchNorm2d(512, eps=1e-05, momentum=0.1, affine=True, track_running_stats=True)\n",
       "      (relu): ReLU(inplace=True)\n",
       "      (conv2): Conv2d(512, 512, kernel_size=(3, 3), stride=(1, 1), padding=(1, 1), bias=False)\n",
       "      (bn2): BatchNorm2d(512, eps=1e-05, momentum=0.1, affine=True, track_running_stats=True)\n",
       "      (downsample): Sequential(\n",
       "        (0): Conv2d(256, 512, kernel_size=(1, 1), stride=(2, 2), bias=False)\n",
       "        (1): BatchNorm2d(512, eps=1e-05, momentum=0.1, affine=True, track_running_stats=True)\n",
       "      )\n",
       "    )\n",
       "    (1): BasicBlock(\n",
       "      (conv1): Conv2d(512, 512, kernel_size=(3, 3), stride=(1, 1), padding=(1, 1), bias=False)\n",
       "      (bn1): BatchNorm2d(512, eps=1e-05, momentum=0.1, affine=True, track_running_stats=True)\n",
       "      (relu): ReLU(inplace=True)\n",
       "      (conv2): Conv2d(512, 512, kernel_size=(3, 3), stride=(1, 1), padding=(1, 1), bias=False)\n",
       "      (bn2): BatchNorm2d(512, eps=1e-05, momentum=0.1, affine=True, track_running_stats=True)\n",
       "    )\n",
       "  )\n",
       "  (avgpool): AdaptiveAvgPool2d(output_size=(1, 1))\n",
       "  (fc): Linear(in_features=512, out_features=4, bias=True)\n",
       ")"
      ]
     },
     "execution_count": 145,
     "metadata": {},
     "output_type": "execute_result"
    }
   ],
   "source": [
    "model.load_state_dict(torch.load(\"satellite_data.pth\"))\n",
    "model.eval()\n"
   ]
  },
  {
   "cell_type": "code",
   "execution_count": 119,
   "metadata": {},
   "outputs": [
    {
     "name": "stdout",
     "output_type": "stream",
     "text": [
      "----------------------------------------------------------------\n",
      "        Layer (type)               Output Shape         Param #\n",
      "================================================================\n",
      "            Conv2d-1         [-1, 64, 112, 112]           9,408\n",
      "       BatchNorm2d-2         [-1, 64, 112, 112]             128\n",
      "              ReLU-3         [-1, 64, 112, 112]               0\n",
      "         MaxPool2d-4           [-1, 64, 56, 56]               0\n",
      "            Conv2d-5           [-1, 64, 56, 56]          36,864\n",
      "       BatchNorm2d-6           [-1, 64, 56, 56]             128\n",
      "              ReLU-7           [-1, 64, 56, 56]               0\n",
      "            Conv2d-8           [-1, 64, 56, 56]          36,864\n",
      "       BatchNorm2d-9           [-1, 64, 56, 56]             128\n",
      "             ReLU-10           [-1, 64, 56, 56]               0\n",
      "       BasicBlock-11           [-1, 64, 56, 56]               0\n",
      "           Conv2d-12           [-1, 64, 56, 56]          36,864\n",
      "      BatchNorm2d-13           [-1, 64, 56, 56]             128\n",
      "             ReLU-14           [-1, 64, 56, 56]               0\n",
      "           Conv2d-15           [-1, 64, 56, 56]          36,864\n",
      "      BatchNorm2d-16           [-1, 64, 56, 56]             128\n",
      "             ReLU-17           [-1, 64, 56, 56]               0\n",
      "       BasicBlock-18           [-1, 64, 56, 56]               0\n",
      "           Conv2d-19          [-1, 128, 28, 28]          73,728\n",
      "      BatchNorm2d-20          [-1, 128, 28, 28]             256\n",
      "             ReLU-21          [-1, 128, 28, 28]               0\n",
      "           Conv2d-22          [-1, 128, 28, 28]         147,456\n",
      "      BatchNorm2d-23          [-1, 128, 28, 28]             256\n",
      "           Conv2d-24          [-1, 128, 28, 28]           8,192\n",
      "      BatchNorm2d-25          [-1, 128, 28, 28]             256\n",
      "             ReLU-26          [-1, 128, 28, 28]               0\n",
      "       BasicBlock-27          [-1, 128, 28, 28]               0\n",
      "           Conv2d-28          [-1, 128, 28, 28]         147,456\n",
      "      BatchNorm2d-29          [-1, 128, 28, 28]             256\n",
      "             ReLU-30          [-1, 128, 28, 28]               0\n",
      "           Conv2d-31          [-1, 128, 28, 28]         147,456\n",
      "      BatchNorm2d-32          [-1, 128, 28, 28]             256\n",
      "             ReLU-33          [-1, 128, 28, 28]               0\n",
      "       BasicBlock-34          [-1, 128, 28, 28]               0\n",
      "           Conv2d-35          [-1, 256, 14, 14]         294,912\n",
      "      BatchNorm2d-36          [-1, 256, 14, 14]             512\n",
      "             ReLU-37          [-1, 256, 14, 14]               0\n",
      "           Conv2d-38          [-1, 256, 14, 14]         589,824\n",
      "      BatchNorm2d-39          [-1, 256, 14, 14]             512\n",
      "           Conv2d-40          [-1, 256, 14, 14]          32,768\n",
      "      BatchNorm2d-41          [-1, 256, 14, 14]             512\n",
      "             ReLU-42          [-1, 256, 14, 14]               0\n",
      "       BasicBlock-43          [-1, 256, 14, 14]               0\n",
      "           Conv2d-44          [-1, 256, 14, 14]         589,824\n",
      "      BatchNorm2d-45          [-1, 256, 14, 14]             512\n",
      "             ReLU-46          [-1, 256, 14, 14]               0\n",
      "           Conv2d-47          [-1, 256, 14, 14]         589,824\n",
      "      BatchNorm2d-48          [-1, 256, 14, 14]             512\n",
      "             ReLU-49          [-1, 256, 14, 14]               0\n",
      "       BasicBlock-50          [-1, 256, 14, 14]               0\n",
      "           Conv2d-51            [-1, 512, 7, 7]       1,179,648\n",
      "      BatchNorm2d-52            [-1, 512, 7, 7]           1,024\n",
      "             ReLU-53            [-1, 512, 7, 7]               0\n",
      "           Conv2d-54            [-1, 512, 7, 7]       2,359,296\n",
      "      BatchNorm2d-55            [-1, 512, 7, 7]           1,024\n",
      "           Conv2d-56            [-1, 512, 7, 7]         131,072\n",
      "      BatchNorm2d-57            [-1, 512, 7, 7]           1,024\n",
      "             ReLU-58            [-1, 512, 7, 7]               0\n",
      "       BasicBlock-59            [-1, 512, 7, 7]               0\n",
      "           Conv2d-60            [-1, 512, 7, 7]       2,359,296\n",
      "      BatchNorm2d-61            [-1, 512, 7, 7]           1,024\n",
      "             ReLU-62            [-1, 512, 7, 7]               0\n",
      "           Conv2d-63            [-1, 512, 7, 7]       2,359,296\n",
      "      BatchNorm2d-64            [-1, 512, 7, 7]           1,024\n",
      "             ReLU-65            [-1, 512, 7, 7]               0\n",
      "       BasicBlock-66            [-1, 512, 7, 7]               0\n",
      "AdaptiveAvgPool2d-67            [-1, 512, 1, 1]               0\n",
      "           Linear-68                    [-1, 4]           2,052\n",
      "================================================================\n",
      "Total params: 11,178,564\n",
      "Trainable params: 11,178,564\n",
      "Non-trainable params: 0\n",
      "----------------------------------------------------------------\n",
      "Input size (MB): 0.57\n",
      "Forward/backward pass size (MB): 62.79\n",
      "Params size (MB): 42.64\n",
      "Estimated Total Size (MB): 106.00\n",
      "----------------------------------------------------------------\n"
     ]
    }
   ],
   "source": [
    "from torchsummary import summary\n",
    "summary(model, input_size=(3, 224, 224))"
   ]
  },
  {
   "cell_type": "code",
   "execution_count": 150,
   "metadata": {},
   "outputs": [
    {
     "name": "stderr",
     "output_type": "stream",
     "text": [
      "c:\\Users\\aarav\\anaconda3\\envs\\pytorch\\Lib\\site-packages\\torchvision\\models\\_utils.py:208: UserWarning: The parameter 'pretrained' is deprecated since 0.13 and may be removed in the future, please use 'weights' instead.\n",
      "  warnings.warn(\n",
      "c:\\Users\\aarav\\anaconda3\\envs\\pytorch\\Lib\\site-packages\\torchvision\\models\\_utils.py:223: UserWarning: Arguments other than a weight enum or `None` for 'weights' are deprecated since 0.13 and may be removed in the future. The current behavior is equivalent to passing `weights=ResNet18_Weights.IMAGENET1K_V1`. You can also use `weights=ResNet18_Weights.DEFAULT` to get the most up-to-date weights.\n",
      "  warnings.warn(msg)\n",
      "C:\\Users\\aarav\\AppData\\Local\\Temp\\ipykernel_23260\\3223929553.py:9: FutureWarning: You are using `torch.load` with `weights_only=False` (the current default value), which uses the default pickle module implicitly. It is possible to construct malicious pickle data which will execute arbitrary code during unpickling (See https://github.com/pytorch/pytorch/blob/main/SECURITY.md#untrusted-models for more details). In a future release, the default value for `weights_only` will be flipped to `True`. This limits the functions that could be executed during unpickling. Arbitrary objects will no longer be allowed to be loaded via this mode unless they are explicitly allowlisted by the user via `torch.serialization.add_safe_globals`. We recommend you start setting `weights_only=True` for any use case where you don't have full control of the loaded file. Please open an issue on GitHub for any issues related to this experimental feature.\n",
      "  model.load_state_dict(torch.load(\"satellite_data.pth\"))\n"
     ]
    },
    {
     "name": "stdout",
     "output_type": "stream",
     "text": [
      "0\n",
      "Predicted: cloudy with confidence 0.6864\n"
     ]
    }
   ],
   "source": [
    "import torch\n",
    "from torchvision import models, transforms\n",
    "from PIL import Image\n",
    "\n",
    "# Load the model\n",
    "model = models.resnet18(pretrained=True)\n",
    "num_features = model.fc.in_features\n",
    "model.fc = torch.nn.Linear(num_features, 4)\n",
    "model.load_state_dict(torch.load(\"satellite_data.pth\"))\n",
    "model.eval()\n",
    "\n",
    "# Define the device\n",
    "device = torch.device(\"cuda\" if torch.cuda.is_available() else \"cpu\")\n",
    "model = model.to(device)\n",
    "\n",
    "######################################################################################################\n",
    "\n",
    "image_path = r\"download.jpg\"\n",
    "image = Image.open(image_path).convert(\"RGB\")\n",
    "transform = transforms.Compose([\n",
    "transforms.Grayscale(num_output_channels=3),\n",
    "transforms.Resize((224,224)),\n",
    "transforms.RandomHorizontalFlip(),\n",
    "transforms.RandomRotation(degrees=10),\n",
    "transforms.RandomResizedCrop(224),\n",
    "transforms.ColorJitter(brightness=0.2,contrast=0.2,saturation=0.2,hue=0.2),\n",
    "transforms.ToTensor(),\n",
    "transforms.Normalize(mean=[0.485, 0.456, 0.406], std=[0.229, 0.224, 0.225])\n",
    "])\n",
    "input_tensor = transform(image).unsqueeze(0).to(device)\n",
    "\n",
    "# Make a prediction\n",
    "with torch.no_grad():\n",
    "    output = model(input_tensor)\n",
    "\n",
    "# Interpret the prediction\n",
    "probabilities = torch.nn.functional.softmax(output[0], dim=0)\n",
    "predicted_class = torch.argmax(probabilities).item()\n",
    "print(predicted_class)\n",
    "class_names = ['cloudy','desert','green_area', 'water']\n",
    "print(f\"Predicted: {class_names[predicted_class]} with confidence {probabilities[predicted_class].item():.4f}\")\n"
   ]
  },
  {
   "cell_type": "code",
   "execution_count": null,
   "metadata": {},
   "outputs": [],
   "source": []
  }
 ],
 "metadata": {
  "kernelspec": {
   "display_name": "pytorch",
   "language": "python",
   "name": "python3"
  },
  "language_info": {
   "codemirror_mode": {
    "name": "ipython",
    "version": 3
   },
   "file_extension": ".py",
   "mimetype": "text/x-python",
   "name": "python",
   "nbconvert_exporter": "python",
   "pygments_lexer": "ipython3",
   "version": "3.12.7"
  }
 },
 "nbformat": 4,
 "nbformat_minor": 2
}
